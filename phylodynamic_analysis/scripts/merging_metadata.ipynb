{
 "cells": [
  {
   "cell_type": "code",
   "execution_count": 1,
   "id": "53802ec4",
   "metadata": {},
   "outputs": [],
   "source": [
    "import pandas as pd"
   ]
  },
  {
   "cell_type": "code",
   "execution_count": 13,
   "id": "1f5bf8e8",
   "metadata": {},
   "outputs": [
    {
     "data": {
      "text/html": [
       "<div>\n",
       "<style scoped>\n",
       "    .dataframe tbody tr th:only-of-type {\n",
       "        vertical-align: middle;\n",
       "    }\n",
       "\n",
       "    .dataframe tbody tr th {\n",
       "        vertical-align: top;\n",
       "    }\n",
       "\n",
       "    .dataframe thead th {\n",
       "        text-align: right;\n",
       "    }\n",
       "</style>\n",
       "<table border=\"1\" class=\"dataframe\">\n",
       "  <thead>\n",
       "    <tr style=\"text-align: right;\">\n",
       "      <th></th>\n",
       "      <th>name</th>\n",
       "      <th>date</th>\n",
       "      <th>hct</th>\n",
       "    </tr>\n",
       "  </thead>\n",
       "  <tbody>\n",
       "    <tr>\n",
       "      <th>0</th>\n",
       "      <td>hCoV-19/USA/WA-UW-2230/2020</td>\n",
       "      <td>2020-03-25</td>\n",
       "      <td>no</td>\n",
       "    </tr>\n",
       "    <tr>\n",
       "      <th>1</th>\n",
       "      <td>hCoV-19/USA/WA-UW-3990/2020</td>\n",
       "      <td>2020-03-29</td>\n",
       "      <td>no</td>\n",
       "    </tr>\n",
       "    <tr>\n",
       "      <th>2</th>\n",
       "      <td>hCoV-19/USA/WA-S81/2020</td>\n",
       "      <td>2020-02-26</td>\n",
       "      <td>no</td>\n",
       "    </tr>\n",
       "    <tr>\n",
       "      <th>3</th>\n",
       "      <td>hCoV-19/USA/WA-S129/2020</td>\n",
       "      <td>2020-03-13</td>\n",
       "      <td>no</td>\n",
       "    </tr>\n",
       "    <tr>\n",
       "      <th>4</th>\n",
       "      <td>hCoV-19/USA/WA-S280/2020</td>\n",
       "      <td>2020-03-09</td>\n",
       "      <td>no</td>\n",
       "    </tr>\n",
       "    <tr>\n",
       "      <th>...</th>\n",
       "      <td>...</td>\n",
       "      <td>...</td>\n",
       "      <td>...</td>\n",
       "    </tr>\n",
       "    <tr>\n",
       "      <th>136026</th>\n",
       "      <td>hCoV-19/USA/WA-PHL-030140/2020</td>\n",
       "      <td>2020-04-04</td>\n",
       "      <td>no</td>\n",
       "    </tr>\n",
       "    <tr>\n",
       "      <th>136027</th>\n",
       "      <td>hCoV-19/USA/WA-PHL-030141/2020</td>\n",
       "      <td>2020-04-04</td>\n",
       "      <td>no</td>\n",
       "    </tr>\n",
       "    <tr>\n",
       "      <th>136028</th>\n",
       "      <td>hCoV-19/USA/WA-OHSU-222900050/2022</td>\n",
       "      <td>2022-07-22</td>\n",
       "      <td>no</td>\n",
       "    </tr>\n",
       "    <tr>\n",
       "      <th>136029</th>\n",
       "      <td>hCoV-19/USA/WA-OHSU-222920179/2022</td>\n",
       "      <td>2022-09-20</td>\n",
       "      <td>no</td>\n",
       "    </tr>\n",
       "    <tr>\n",
       "      <th>136030</th>\n",
       "      <td>hCoV-19/USA/WA-OHSU-222920160/2022</td>\n",
       "      <td>2022-09-21</td>\n",
       "      <td>no</td>\n",
       "    </tr>\n",
       "  </tbody>\n",
       "</table>\n",
       "<p>136031 rows × 3 columns</p>\n",
       "</div>"
      ],
      "text/plain": [
       "                                      name        date hct\n",
       "0              hCoV-19/USA/WA-UW-2230/2020  2020-03-25  no\n",
       "1              hCoV-19/USA/WA-UW-3990/2020  2020-03-29  no\n",
       "2                  hCoV-19/USA/WA-S81/2020  2020-02-26  no\n",
       "3                 hCoV-19/USA/WA-S129/2020  2020-03-13  no\n",
       "4                 hCoV-19/USA/WA-S280/2020  2020-03-09  no\n",
       "...                                    ...         ...  ..\n",
       "136026      hCoV-19/USA/WA-PHL-030140/2020  2020-04-04  no\n",
       "136027      hCoV-19/USA/WA-PHL-030141/2020  2020-04-04  no\n",
       "136028  hCoV-19/USA/WA-OHSU-222900050/2022  2022-07-22  no\n",
       "136029  hCoV-19/USA/WA-OHSU-222920179/2022  2022-09-20  no\n",
       "136030  hCoV-19/USA/WA-OHSU-222920160/2022  2022-09-21  no\n",
       "\n",
       "[136031 rows x 3 columns]"
      ]
     },
     "execution_count": 13,
     "metadata": {},
     "output_type": "execute_result"
    }
   ],
   "source": [
    "tsv1 = pd.read_csv(\"Main_Raw.tsv\", sep = \"\\t\")\n",
    "tsv2 = pd.read_csv(\"Main_Simple.tsv\",  sep = \"\\t\")\n",
    "tsv2 = tsv2.drop(columns=\"date\")"
   ]
  },
  {
   "cell_type": "code",
   "execution_count": 17,
   "id": "361eb1b6",
   "metadata": {},
   "outputs": [],
   "source": [
    "final_tsv = pd.merge(tsv1, tsv2, left_on = \"strain\", right_on= \"name\")"
   ]
  },
  {
   "cell_type": "code",
   "execution_count": 38,
   "id": "1d34851b",
   "metadata": {},
   "outputs": [],
   "source": [
    "final_tsv = final_tsv[final_tsv.strain.duplicated() == False]"
   ]
  },
  {
   "cell_type": "code",
   "execution_count": 39,
   "id": "66c3b28a",
   "metadata": {},
   "outputs": [],
   "source": [
    "final_tsv.to_csv(\"metadata.tsv\", sep= \"\\t\")"
   ]
  },
  {
   "cell_type": "code",
   "execution_count": null,
   "id": "f2ab50ab",
   "metadata": {},
   "outputs": [],
   "source": []
  }
 ],
 "metadata": {
  "kernelspec": {
   "display_name": "Python 3 (ipykernel)",
   "language": "python",
   "name": "python3"
  },
  "language_info": {
   "codemirror_mode": {
    "name": "ipython",
    "version": 3
   },
   "file_extension": ".py",
   "mimetype": "text/x-python",
   "name": "python",
   "nbconvert_exporter": "python",
   "pygments_lexer": "ipython3",
   "version": "3.8.13"
  }
 },
 "nbformat": 4,
 "nbformat_minor": 5
}
